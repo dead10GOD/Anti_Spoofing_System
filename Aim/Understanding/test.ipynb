{
 "cells": [
  {
   "cell_type": "code",
   "execution_count": 2,
   "metadata": {},
   "outputs": [],
   "source": [
    "import cv2\n",
    "image = cv2.imread(\"C:\\\\Users\\\\KIIT\\\\Desktop\\\\Project\\\\Task1\\\\Faces\\\\Spoof_Face_Mobile\\\\10.jpg\")\n",
    "# Check if the image was successfully loaded\n",
    "if image is None:\n",
    "    print(\"Error: Could not read the image.\")\n",
    "else:\n",
    "    # Convert the image to grayscale\n",
    "    gray_image = cv2.cvtColor(image, cv2.COLOR_BGR2GRAY)\n",
    "    # Save the grayscale image to a file\n",
    "    cv2.imwrite('gray_image.jpg', gray_image)\n",
    "\n",
    "    # Display the original and grayscale images\n",
    "    cv2.imshow('Original Image', image)\n",
    "    cv2.imshow('Grayscale Image', gray_image)\n",
    "    \n",
    "    # Wait for a key press and close the image windows\n",
    "    cv2.waitKey(0)\n",
    "    cv2.destroyAllWindows()"
   ]
  },
  {
   "cell_type": "markdown",
   "metadata": {},
   "source": [
    "## Understanding Channels"
   ]
  },
  {
   "cell_type": "code",
   "execution_count": 3,
   "metadata": {},
   "outputs": [],
   "source": [
    "import cv2\n",
    "image = cv2.imread(\"C:\\\\Users\\\\KIIT\\\\Desktop\\\\Project\\\\Images_Coloured\\\\Random_Images\\\\parrot.jpeg\")\n",
    "if image is None:\n",
    "    print(\"Error: Could not read the image.\")\n",
    "else:\n",
    "    # Split the image to into Blue,Green ,Red\n",
    "    blue,green,red=cv2.split(image)\n",
    "    cv2.imwrite('blue.jpg',blue)\n",
    "    cv2.imwrite('green.jpg',green)\n",
    "    cv2.imwrite('red.jpg',red)\n",
    "    \n",
    "    # Display the original and grayscale images\n",
    "    cv2.imshow('Original Image', image)\n",
    "    cv2.imshow('blue', blue)\n",
    "    cv2.imshow('green', green)\n",
    "    cv2.imshow('red', red)\n",
    "    \n",
    "    # Wait for a key press and close the image windows\n",
    "    cv2.waitKey(0)\n",
    "    cv2.destroyAllWindows()\n",
    "    "
   ]
  },
  {
   "cell_type": "markdown",
   "metadata": {},
   "source": []
  }
 ],
 "metadata": {
  "kernelspec": {
   "display_name": "Python 3",
   "language": "python",
   "name": "python3"
  },
  "language_info": {
   "codemirror_mode": {
    "name": "ipython",
    "version": 3
   },
   "file_extension": ".py",
   "mimetype": "text/x-python",
   "name": "python",
   "nbconvert_exporter": "python",
   "pygments_lexer": "ipython3",
   "version": "3.10.11"
  }
 },
 "nbformat": 4,
 "nbformat_minor": 2
}
